{
 "cells": [
  {
   "cell_type": "code",
   "execution_count": 1,
   "metadata": {
    "collapsed": true
   },
   "outputs": [],
   "source": [
    "import torch\n",
    "import pickle\n",
    "from wdl.bregman import barycenter\n",
    "import matplotlib.pyplot as plt\n",
    "from utilities.simpleDistributions import simplexSample"
   ]
  },
  {
   "cell_type": "code",
   "execution_count": 4,
   "metadata": {
    "collapsed": false
   },
   "outputs": [],
   "source": [
    "height, width = 28, 28\n",
    "maxsinkiters = 50\n",
    "reg = 0.003\n",
    "barySolver = barycenter(None, \"conv\", reg=reg, height=height, width=width, maxsinkiter=maxsinkiters)\n",
    "\n",
    "with open(\n",
    "        \"noise0.0005.pkl\",\n",
    "        'rb') as f:\n",
    "    data = pickle.load(f)\n",
    "\n",
    "D = data[\"True D\"][:, :3]\n",
    "w = simplexSample(3)\n",
    "\n",
    "X = barySolver(D, w)\n",
    "\n",
    "noise = 5e-4\n",
    "X += noise * torch.randn_like(X)\n",
    "# make any negative entries small to avoid numerical errors (unsure of what the exact bug is\n",
    "# happens during backward pass\n",
    "X = torch.clip(X, min=1e-4)\n",
    "X /= X.sum(0)"
   ]
  },
  {
   "cell_type": "code",
   "execution_count": 5,
   "metadata": {
    "collapsed": false
   },
   "outputs": [
    {
     "data": {
      "image/png": "[encoded data removed]",
      "text/plain": [
       "<Figure size 432x288 with 1 Axes>"
      ]
     },
     "metadata": {
      "needs_background": "light"
     },
     "output_type": "display_data"
    }
   ],
   "source": [
    "fig, ax = plt.subplots()\n",
    "ax.imshow(X.view(28, 28), cmap=\"gray_r\")\n",
    "ax.axis(\"off\")\n",
    "fig.savefig(\"noisymnist.pdf\")"
   ]
  },
  {
   "cell_type": "code",
   "execution_count": null,
   "metadata": {
    "collapsed": false
   },
   "outputs": [],
   "source": []
  }
 ],
 "metadata": {
  "kernelspec": {
   "display_name": "Python 3",
   "language": "python",
   "name": "python3"
  },
  "language_info": {
   "codemirror_mode": {
    "name": "ipython",
    "version": 3
   },
   "file_extension": ".py",
   "mimetype": "text/x-python",
   "name": "python",
   "nbconvert_exporter": "python",
   "pygments_lexer": "ipython3",
   "version": "3.9.7"
  }
 },
 "nbformat": 4,
 "nbformat_minor": 0
}
